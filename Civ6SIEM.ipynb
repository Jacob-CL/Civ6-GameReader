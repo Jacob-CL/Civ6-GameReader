{
 "cells": [
  {
   "cell_type": "code",
   "execution_count": 1,
   "metadata": {},
   "outputs": [
    {
     "name": "stdout",
     "output_type": "stream",
     "text": [
      "New Barbarian Unit spawned: SPEARMAN\n"
     ]
    }
   ],
   "source": [
    "import tailer\n",
    "import re\n",
    "import threading\n",
    "import csv\n",
    "\n",
    "def monitor_log_file(log_file_path, patterns, alert_message):\n",
    "    \"\"\"\n",
    "    Monitor a log file for new entries matching any of the specified patterns and alert when such an entry is found.\n",
    "    Prints the matching string along with the alert message.\n",
    "    \"\"\"\n",
    "    compiled_patterns = [re.compile(pattern) for pattern in patterns]\n",
    "    with open(log_file_path, \"r\") as file:\n",
    "        for line in tailer.follow(file):\n",
    "            for compiled_pattern in compiled_patterns:\n",
    "                match = compiled_pattern.search(line)\n",
    "                if match:\n",
    "                    matching_string = match.group()\n",
    "                    print(f\"{alert_message} {matching_string}\")\n",
    "                    break  # Stop checking patterns after the first match\n",
    "\n",
    "def monitor_csv_file(csv_file_path, patterns, alert_message, column_index=0):\n",
    "    compiled_patterns = [re.compile(pattern) for pattern in patterns]\n",
    "    with open(csv_file_path, \"r\") as file:\n",
    "        for line in tailer.follow(file):\n",
    "            reader = csv.reader([line])\n",
    "            for row in reader:\n",
    "                if len(row) > column_index:\n",
    "                    for compiled_pattern in compiled_patterns:\n",
    "                        match = compiled_pattern.search(row[column_index])\n",
    "                        if match:\n",
    "                            # Use the original string for re.search\n",
    "                            unit_pattern = r\" LOC_UNIT_([A-Z]*)_NAME\"\n",
    "                            matching_string = re.search(unit_pattern, row[column_index])  # Use the original string here\n",
    "                            if matching_string:  # Check if the search was successful\n",
    "                                unit_string = matching_string.group(1)  # Extract the matched group\n",
    "                                print(f\"{alert_message} {unit_string}\")\n",
    "                                break  # Stop checking patterns after the first match\n",
    "\n",
    "def start_monitoring(files_info):\n",
    "    \"\"\"\n",
    "    Start monitoring multiple files in separate threads, allowing for multiple patterns per file.\n",
    "    Prints the specific string that triggered the alert.\n",
    "    \"\"\"\n",
    "    threads = []\n",
    "\n",
    "    for file_info in files_info:\n",
    "        file_type = file_info.get('type')\n",
    "        if file_type == 'log':\n",
    "            thread = threading.Thread(target=monitor_log_file, args=(file_info['path'], file_info['pattern'], file_info['message']))\n",
    "        elif file_type == 'csv':\n",
    "            thread = threading.Thread(target=monitor_csv_file, args=(file_info['path'], file_info['pattern'], file_info['message'], file_info.get('column_index', 0)))\n",
    "        else:\n",
    "            continue  # Unsupported file type\n",
    "        \n",
    "        threads.append(thread)\n",
    "        thread.start()\n",
    "\n",
    "    for thread in threads:\n",
    "        thread.join()\n",
    "\n",
    "# Example usage\n",
    "files_info = [\n",
    "    {'type': 'log', 'path': 'C:\\\\Users\\\\User\\\\AppData\\\\Local\\\\Firaxis Games\\\\Sid Meier\\'s Civilization VI\\\\Logs\\\\GameCore.log', 'pattern': r\"ERROR\", 'message': \"Error found\"},\n",
    "    {'type': 'csv', 'path': 'C:\\\\Users\\\\User\\\\AppData\\\\Local\\\\Firaxis Games\\\\Sid Meier\\'s Civilization VI\\\\Logs\\\\Barbarians_Units.csv', 'pattern': [r\" LOC_UNIT_SPEARMAN_NAME\",\n",
    "                                                                                                                                                     r\" LOC_UNIT_SCOUT_NAME\",\n",
    "                                                                                                                                                       r\" LOC_UNIT_WARRIOR_NAME\",\n",
    "                                                                                                                                                         r\" LOC_UNIT_BARBARIAN_HORSEMAN_NAME\",\n",
    "                                                                                                                                                         r\" LOC_UNIT_GALLEY_NAME\",\n",
    "                                                                                                                                                         r\" LOC_UNIT_QUADRIREME_NAME\",\n",
    "                                                                                                                                                         r\" LOC_UNIT_SWORDSMAN_NAME\",\n",
    "                                                                                                                                                         r\" LOC_UNIT_ARCHER_NAME\",\n",
    "                                                                                                                                                         r\" LOC_UNIT_MAN_AT_ARMS_NAME\",\n",
    "                                                                                                                                                         r\" LOC_UNIT_CROSSBOWMAN_NAME\",\n",
    "                                                                                                                                                         ], 'message': \"New Barbarian Unit spawned:\", 'column_index': 2}\n",
    "]\n",
    "\n",
    "start_monitoring(files_info)\n"
   ]
  }
 ],
 "metadata": {
  "kernelspec": {
   "display_name": "Python 3",
   "language": "python",
   "name": "python3"
  },
  "language_info": {
   "codemirror_mode": {
    "name": "ipython",
    "version": 3
   },
   "file_extension": ".py",
   "mimetype": "text/x-python",
   "name": "python",
   "nbconvert_exporter": "python",
   "pygments_lexer": "ipython3",
   "version": "3.12.0"
  }
 },
 "nbformat": 4,
 "nbformat_minor": 2
}
